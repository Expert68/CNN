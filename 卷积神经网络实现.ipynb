{
 "cells": [
  {
   "attachments": {},
   "cell_type": "markdown",
   "metadata": {},
   "source": [
    "# 卷积神经网络\n",
    "\n",
    "## 神经网络遇到的问题\n",
    "- 普通的神经网络在处理图片的时候会遇到参数过多的问题\n",
    "- 因为参数过多，所以会产生过拟合问题，需要使用更多的训练数据\n",
    "- 因为参数过多，所以会导致得到的结果收敛到较差的局部极值\n",
    "\n",
    "## 卷积神经网络\n",
    "- 局部连接\n",
    "- 参数共享\n",
    "- 输出size = 输入size-卷积核+1\n",
    "- 卷积--padding使输出size不变\n",
    "\n",
    "## 卷积 ------ 多个卷积核\n",
    "- 卷积层，输入三通道，输出192通道，卷积核大小是3*3，问该卷积层有多少参数？\n",
    "\n",
    "## 卷积-Summary\n",
    "- P=边距(padding)\n",
    "- S=步长(stride)\n",
    "- 输出尺寸 = (n-p)/s+1"
   ]
  },
  {
   "cell_type": "markdown",
   "metadata": {},
   "source": [
    "# 卷积神经网络的tensorflow实现"
   ]
  },
  {
   "cell_type": "code",
   "execution_count": 1,
   "metadata": {},
   "outputs": [
    {
     "name": "stderr",
     "output_type": "stream",
     "text": [
      "C:\\ProgramData\\Anaconda3\\lib\\site-packages\\h5py\\__init__.py:36: FutureWarning: Conversion of the second argument of issubdtype from `float` to `np.floating` is deprecated. In future, it will be treated as `np.float64 == np.dtype(float).type`.\n",
      "  from ._conv import register_converters as _register_converters\n"
     ]
    }
   ],
   "source": [
    "import tensorflow as tf"
   ]
  },
  {
   "cell_type": "code",
   "execution_count": 2,
   "metadata": {},
   "outputs": [
    {
     "name": "stdout",
     "output_type": "stream",
     "text": [
      "1.10.0\n"
     ]
    }
   ],
   "source": [
    "print(tf.__version__)"
   ]
  },
  {
   "cell_type": "code",
   "execution_count": 3,
   "metadata": {},
   "outputs": [],
   "source": [
    "import pickle\n",
    "import numpy\n",
    "import os\n",
    "import numpy as np"
   ]
  },
  {
   "cell_type": "code",
   "execution_count": 4,
   "metadata": {},
   "outputs": [
    {
     "data": {
      "text/plain": [
       "['.ipynb_checkpoints',\n",
       " '09边缘检测2.ipynb',\n",
       " '1.PNG',\n",
       " 'cifar-10-batches-py',\n",
       " 'RL强化学习.ipynb',\n",
       " '前馈神经网络.ipynb',\n",
       " '卷积神经网络实现.ipynb',\n",
       " '强化学习.ipynb',\n",
       " '神经元.ipynb',\n",
       " '神经网络实现.ipynb']"
      ]
     },
     "execution_count": 4,
     "metadata": {},
     "output_type": "execute_result"
    }
   ],
   "source": [
    "os.listdir('./')"
   ]
  },
  {
   "cell_type": "code",
   "execution_count": 5,
   "metadata": {},
   "outputs": [],
   "source": [
    "CIFAR_DIR = './cifar-10-batches-py'"
   ]
  },
  {
   "cell_type": "code",
   "execution_count": 6,
   "metadata": {},
   "outputs": [
    {
     "data": {
      "text/plain": [
       "['batches.meta',\n",
       " 'data_batch_1',\n",
       " 'data_batch_2',\n",
       " 'data_batch_3',\n",
       " 'data_batch_4',\n",
       " 'data_batch_5',\n",
       " 'readme.html',\n",
       " 'test_batch']"
      ]
     },
     "execution_count": 6,
     "metadata": {},
     "output_type": "execute_result"
    }
   ],
   "source": [
    "os.listdir(CIFAR_DIR)"
   ]
  },
  {
   "cell_type": "code",
   "execution_count": 7,
   "metadata": {},
   "outputs": [
    {
     "name": "stdout",
     "output_type": "stream",
     "text": [
      "<class 'dict'>\n",
      "dict_keys(['batch_label', 'labels', 'data', 'filenames'])\n",
      "<class 'numpy.ndarray'>\n",
      "<class 'list'>\n",
      "<class 'str'>\n",
      "<class 'list'>\n",
      "(10000, 3072)\n",
      "[[ 59  43  50 ... 140  84  72]\n",
      " [154 126 105 ... 139 142 144]]\n",
      "[6, 9]\n",
      "training batch 1 of 5\n",
      "['leptodactylus_pentadactylus_s_000004.png', 'camion_s_000148.png']\n"
     ]
    }
   ],
   "source": [
    "with open(os.path.join(CIFAR_DIR,'data_batch_1'),'rb') as f:\n",
    "    data = pickle.load(f,encoding='latin1')\n",
    "    print(type(data))\n",
    "    print(data.keys())\n",
    "    print(type(data['data']))\n",
    "    print(type(data['labels']))\n",
    "    print(type(data['batch_label']))\n",
    "    print(type(data['filenames']))\n",
    "    print(data['data'].shape)\n",
    "    print(data['data'][0:2])\n",
    "    print(data['labels'][0:2])\n",
    "    print(data['batch_label'])\n",
    "    print(data['filenames'][0:2])"
   ]
  },
  {
   "cell_type": "code",
   "execution_count": 8,
   "metadata": {},
   "outputs": [],
   "source": [
    "image_arr = data['data'][100]\n",
    "image_arr = image_arr.reshape((3,32,32))\n",
    "image_arr = image_arr.transpose((1,2,0))"
   ]
  },
  {
   "cell_type": "code",
   "execution_count": 9,
   "metadata": {},
   "outputs": [],
   "source": [
    " import matplotlib.pyplot as plt\n",
    "%matplotlib inline"
   ]
  },
  {
   "cell_type": "code",
   "execution_count": 10,
   "metadata": {},
   "outputs": [
    {
     "data": {
      "text/plain": [
       "<matplotlib.image.AxesImage at 0x20f70438>"
      ]
     },
     "execution_count": 10,
     "metadata": {},
     "output_type": "execute_result"
    },
    {
     "data": {
      "image/png": "[encoded data removed]",
      "text/plain": [
       "<Figure size 432x288 with 1 Axes>"
      ]
     },
     "metadata": {},
     "output_type": "display_data"
    }
   ],
   "source": [
    "plt.imshow(image_arr)"
   ]
  },
  {
   "cell_type": "markdown",
   "metadata": {},
   "source": [
    "# 使用神经元对cifar数据进行分类"
   ]
  },
  {
   "cell_type": "code",
   "execution_count": 11,
   "metadata": {},
   "outputs": [],
   "source": [
    "import tensorflow as tf"
   ]
  },
  {
   "cell_type": "code",
   "execution_count": 12,
   "metadata": {},
   "outputs": [
    {
     "name": "stdout",
     "output_type": "stream",
     "text": [
      "(50000, 3072)\n",
      "(50000,)\n",
      "(10000, 3072)\n",
      "(10000,)\n"
     ]
    }
   ],
   "source": [
    "def load_data(filename):\n",
    "    \"\"\"read data from data file.\"\"\"\n",
    "    with open(filename, 'rb') as f:\n",
    "        data = pickle.load(f, encoding='bytes')\n",
    "        return data[b'data'], data[b'labels']\n",
    "\n",
    "# tensorflow.Dataset.\n",
    "class CifarData:\n",
    "    def __init__(self, filenames, need_shuffle):\n",
    "        all_data = []\n",
    "        all_labels = []\n",
    "        for filename in filenames:\n",
    "            data, labels = load_data(filename)\n",
    "            all_data.append(data)\n",
    "            all_labels.append(labels)\n",
    "        self._data = np.vstack(all_data)\n",
    "        self._data = self._data / 127.5 - 1\n",
    "        self._labels = np.hstack(all_labels)\n",
    "        print(self._data.shape)\n",
    "        print(self._labels.shape)\n",
    "        \n",
    "        self._num_examples = self._data.shape[0]\n",
    "        self._need_shuffle = need_shuffle\n",
    "        self._indicator = 0\n",
    "        if self._need_shuffle:\n",
    "            self._shuffle_data()\n",
    "            \n",
    "    def _shuffle_data(self):\n",
    "        # [0,1,2,3,4,5] -> [5,3,2,4,0,1]\n",
    "        p = np.random.permutation(self._num_examples)\n",
    "        self._data = self._data[p]\n",
    "        self._labels = self._labels[p]\n",
    "    \n",
    "    def next_batch(self, batch_size):\n",
    "        \"\"\"return batch_size examples as a batch.\"\"\"\n",
    "        end_indicator = self._indicator + batch_size\n",
    "        if end_indicator > self._num_examples:\n",
    "            if self._need_shuffle:\n",
    "                self._shuffle_data()\n",
    "                self._indicator = 0\n",
    "                end_indicator = batch_size\n",
    "            else:\n",
    "                raise Exception(\"have no more examples\")\n",
    "        if end_indicator > self._num_examples:\n",
    "            raise Exception(\"batch size is larger than all examples\")\n",
    "        batch_data = self._data[self._indicator: end_indicator]\n",
    "        batch_labels = self._labels[self._indicator: end_indicator]\n",
    "        self._indicator = end_indicator\n",
    "        return batch_data, batch_labels\n",
    "\n",
    "train_filenames = [os.path.join(CIFAR_DIR, 'data_batch_%d' % i) for i in range(1, 6)]\n",
    "test_filenames = [os.path.join(CIFAR_DIR, 'test_batch')]\n",
    "\n",
    "train_data = CifarData(train_filenames, True)\n",
    "test_data = CifarData(test_filenames, False)"
   ]
  },
  {
   "cell_type": "code",
   "execution_count": 13,
   "metadata": {},
   "outputs": [],
   "source": [
    "x = tf.placeholder(tf.float32,[None,3072])\n",
    "x_image = tf.reshape(x,[-1,3,32,32])\n",
    "y = tf.placeholder(tf.int64,[None])"
   ]
  },
  {
   "cell_type": "code",
   "execution_count": 14,
   "metadata": {},
   "outputs": [],
   "source": [
    "# w = tf.get_variable('w',[x.get_shape()[-1],10],initializer=tf.random_normal_initializer(0,1))\n",
    "# b = tf.get_variable('b',[10],initializer=tf.constant_initializer(0.0))\n",
    "# y_ = tf.matmul(x,w)+b\n",
    "# hidden1 = tf.layers.dense(x,100,activation=tf.nn.relu)\n",
    "# hidden2 = tf.layers.dense(hidden1,100,activation=tf.nn.relu)\n",
    "# hidden3 = tf.layers.dense(hidden2,50,activation=tf.nn.relu)\n",
    "x_image = tf.reshape(x,[-1,3,32,32])\n",
    "x_image = tf.transpose(x_image,perm=[0,2,3,1])\n",
    "conv1 = tf.layers.conv2d(x_image,32,(3,3),padding='same',activation=tf.nn.relu,name='conv1')\n",
    "pooling1 = tf.layers.max_pooling2d(conv1,(2,2),(2,2),name='pool1')\n",
    "conv2 = tf.layers.conv2d(x_image,32,(3,3),padding='same',activation=tf.nn.relu,name='conv2')\n",
    "pooling2 = tf.layers.max_pooling2d(conv1,(2,2),(2,2),name='pool2')\n",
    "conv3 = tf.layers.conv2d(x_image,32,(3,3),padding='same',activation=tf.nn.relu,name='conv3')\n",
    "pooling3 = tf.layers.max_pooling2d(conv1,(2,2),(2,2),name='pool3')\n",
    "flatten = tf.layers.flatten(pooling3)\n",
    "y_ = tf.layers.dense(flatten,10)\n",
    "p_y = tf.nn.softmax(y_)\n",
    "y_one_hot = tf.one_hot(y,10,dtype=tf.float32)\n",
    "loss = tf.losses.sparse_softmax_cross_entropy(labels=y,logits=y_)"
   ]
  },
  {
   "cell_type": "code",
   "execution_count": 15,
   "metadata": {},
   "outputs": [
    {
     "data": {
      "text/plain": [
       "'\\np_y_1 = tf.nn.sigmoid(y_)\\n'"
      ]
     },
     "execution_count": 15,
     "metadata": {},
     "output_type": "execute_result"
    }
   ],
   "source": [
    "\"\"\"\n",
    "p_y_1 = tf.nn.sigmoid(y_)\n",
    "\"\"\""
   ]
  },
  {
   "cell_type": "code",
   "execution_count": 16,
   "metadata": {},
   "outputs": [
    {
     "data": {
      "text/plain": [
       "'\\ny_reshaped = tf.reshape(y,(-1,1))\\ny_reshaped_float = tf.cast(y_reshaped,tf.float32)\\nloss = tf.reduce_mean(tf.square(y_reshaped_float-p_y_1))\\n'"
      ]
     },
     "execution_count": 16,
     "metadata": {},
     "output_type": "execute_result"
    }
   ],
   "source": [
    "\"\"\"\n",
    "y_reshaped = tf.reshape(y,(-1,1))\n",
    "y_reshaped_float = tf.cast(y_reshaped,tf.float32)\n",
    "loss = tf.reduce_mean(tf.square(y_reshaped_float-p_y_1))\n",
    "\"\"\""
   ]
  },
  {
   "cell_type": "code",
   "execution_count": 17,
   "metadata": {},
   "outputs": [],
   "source": [
    "predict = tf.argmax(y_,1)\n",
    "correct_prediction = tf.equal(predict,y)\n",
    "accuracy = tf.reduce_mean(tf.cast(correct_prediction,tf.float64))"
   ]
  },
  {
   "cell_type": "code",
   "execution_count": 18,
   "metadata": {},
   "outputs": [],
   "source": [
    "with tf.name_scope('train_op'):\n",
    "    train_op = tf.train.AdamOptimizer(1e-3).minimize(loss)"
   ]
  },
  {
   "cell_type": "code",
   "execution_count": 19,
   "metadata": {},
   "outputs": [
    {
     "name": "stdout",
     "output_type": "stream",
     "text": [
      "[Train] Step: 0, loss: 2.36045, acc:0.05000\n",
      "[Train] Step: 500, loss: 1.63109, acc:0.50000\n",
      "[Train] Step: 1000, loss: 1.75739, acc:0.30000\n",
      "[Train] Step: 1500, loss: 1.28822, acc:0.55000\n",
      "[Train] Step: 2000, loss: 0.98127, acc:0.65000\n",
      "[Train] Step: 2500, loss: 1.14536, acc:0.70000\n",
      "[Train] Step: 3000, loss: 1.12998, acc:0.55000\n",
      "[Train] Step: 3500, loss: 1.28816, acc:0.60000\n",
      "[Train] Step: 4000, loss: 1.37566, acc:0.45000\n",
      "[Train] Step: 4500, loss: 1.09631, acc:0.60000\n",
      "(10000, 3072)\n",
      "(10000,)\n",
      "[Test] Step: 5000,acc:0.64700\n",
      "[Train] Step: 5000, loss: 0.51095, acc:0.85000\n",
      "[Train] Step: 5500, loss: 1.25373, acc:0.55000\n",
      "[Train] Step: 6000, loss: 1.28296, acc:0.55000\n",
      "[Train] Step: 6500, loss: 0.82542, acc:0.60000\n",
      "[Train] Step: 7000, loss: 0.92319, acc:0.65000\n",
      "[Train] Step: 7500, loss: 1.46433, acc:0.50000\n",
      "[Train] Step: 8000, loss: 1.02229, acc:0.65000\n",
      "[Train] Step: 8500, loss: 0.93910, acc:0.65000\n",
      "[Train] Step: 9000, loss: 0.81772, acc:0.75000\n",
      "[Train] Step: 9500, loss: 1.21820, acc:0.55000\n",
      "(10000, 3072)\n",
      "(10000,)\n",
      "[Test] Step: 10000,acc:0.63850\n",
      "[Train] Step: 10000, loss: 0.72855, acc:0.75000\n",
      "[Train] Step: 10500, loss: 0.99103, acc:0.75000\n",
      "[Train] Step: 11000, loss: 0.48860, acc:0.80000\n",
      "[Train] Step: 11500, loss: 0.70837, acc:0.75000\n",
      "[Train] Step: 12000, loss: 0.50222, acc:0.85000\n",
      "[Train] Step: 12500, loss: 0.88540, acc:0.75000\n",
      "[Train] Step: 13000, loss: 0.73132, acc:0.75000\n",
      "[Train] Step: 13500, loss: 0.52072, acc:0.90000\n",
      "[Train] Step: 14000, loss: 0.74708, acc:0.65000\n",
      "[Train] Step: 14500, loss: 0.98254, acc:0.70000\n",
      "(10000, 3072)\n",
      "(10000,)\n",
      "[Test] Step: 15000,acc:0.65200\n",
      "[Train] Step: 15000, loss: 0.71741, acc:0.90000\n",
      "[Train] Step: 15500, loss: 0.76889, acc:0.75000\n",
      "[Train] Step: 16000, loss: 0.93603, acc:0.70000\n",
      "[Train] Step: 16500, loss: 0.80593, acc:0.80000\n",
      "[Train] Step: 17000, loss: 1.14652, acc:0.75000\n",
      "[Train] Step: 17500, loss: 0.61225, acc:0.80000\n",
      "[Train] Step: 18000, loss: 0.85763, acc:0.65000\n",
      "[Train] Step: 18500, loss: 0.71385, acc:0.70000\n",
      "[Train] Step: 19000, loss: 1.08162, acc:0.65000\n",
      "[Train] Step: 19500, loss: 0.55778, acc:0.85000\n",
      "(10000, 3072)\n",
      "(10000,)\n",
      "[Test] Step: 20000,acc:0.63950\n",
      "[Train] Step: 20000, loss: 0.44281, acc:0.85000\n",
      "[Train] Step: 20500, loss: 0.40315, acc:0.85000\n",
      "[Train] Step: 21000, loss: 0.72798, acc:0.65000\n",
      "[Train] Step: 21500, loss: 0.66978, acc:0.75000\n",
      "[Train] Step: 22000, loss: 0.47719, acc:0.80000\n",
      "[Train] Step: 22500, loss: 0.67652, acc:0.85000\n",
      "[Train] Step: 23000, loss: 0.55015, acc:0.85000\n",
      "[Train] Step: 23500, loss: 0.49005, acc:0.80000\n",
      "[Train] Step: 24000, loss: 0.50843, acc:0.70000\n",
      "[Train] Step: 24500, loss: 1.13321, acc:0.60000\n",
      "(10000, 3072)\n",
      "(10000,)\n",
      "[Test] Step: 25000,acc:0.64600\n",
      "[Train] Step: 25000, loss: 0.71386, acc:0.80000\n",
      "[Train] Step: 25500, loss: 0.47143, acc:0.80000\n",
      "[Train] Step: 26000, loss: 0.40860, acc:0.90000\n",
      "[Train] Step: 26500, loss: 0.86466, acc:0.70000\n",
      "[Train] Step: 27000, loss: 0.47640, acc:0.80000\n",
      "[Train] Step: 27500, loss: 0.54227, acc:0.80000\n",
      "[Train] Step: 28000, loss: 0.77077, acc:0.75000\n",
      "[Train] Step: 28500, loss: 0.65466, acc:0.70000\n",
      "[Train] Step: 29000, loss: 0.60365, acc:0.80000\n",
      "[Train] Step: 29500, loss: 0.44423, acc:0.80000\n",
      "(10000, 3072)\n",
      "(10000,)\n",
      "[Test] Step: 30000,acc:0.63600\n",
      "[Train] Step: 30000, loss: 0.54580, acc:0.80000\n",
      "[Train] Step: 30500, loss: 0.62182, acc:0.80000\n",
      "[Train] Step: 31000, loss: 0.75427, acc:0.70000\n",
      "[Train] Step: 31500, loss: 0.72173, acc:0.75000\n",
      "[Train] Step: 32000, loss: 0.41613, acc:0.80000\n",
      "[Train] Step: 32500, loss: 0.82150, acc:0.75000\n",
      "[Train] Step: 33000, loss: 0.59502, acc:0.80000\n",
      "[Train] Step: 33500, loss: 0.58844, acc:0.80000\n",
      "[Train] Step: 34000, loss: 1.14792, acc:0.75000\n",
      "[Train] Step: 34500, loss: 0.37242, acc:0.90000\n",
      "(10000, 3072)\n",
      "(10000,)\n",
      "[Test] Step: 35000,acc:0.63200\n",
      "[Train] Step: 35000, loss: 0.49424, acc:0.80000\n",
      "[Train] Step: 35500, loss: 1.32955, acc:0.70000\n",
      "[Train] Step: 36000, loss: 0.70913, acc:0.65000\n",
      "[Train] Step: 36500, loss: 0.37721, acc:0.80000\n",
      "[Train] Step: 37000, loss: 0.55490, acc:0.75000\n",
      "[Train] Step: 37500, loss: 0.62311, acc:0.85000\n",
      "[Train] Step: 38000, loss: 0.65345, acc:0.80000\n",
      "[Train] Step: 38500, loss: 1.00963, acc:0.75000\n",
      "[Train] Step: 39000, loss: 0.43053, acc:0.80000\n",
      "[Train] Step: 39500, loss: 0.35989, acc:0.90000\n",
      "(10000, 3072)\n",
      "(10000,)\n",
      "[Test] Step: 40000,acc:0.63050\n",
      "[Train] Step: 40000, loss: 0.29183, acc:0.95000\n",
      "[Train] Step: 40500, loss: 0.38976, acc:0.90000\n",
      "[Train] Step: 41000, loss: 0.32319, acc:0.90000\n",
      "[Train] Step: 41500, loss: 0.48347, acc:0.85000\n",
      "[Train] Step: 42000, loss: 0.74501, acc:0.75000\n",
      "[Train] Step: 42500, loss: 0.41456, acc:0.90000\n",
      "[Train] Step: 43000, loss: 0.96352, acc:0.65000\n",
      "[Train] Step: 43500, loss: 0.31509, acc:0.90000\n",
      "[Train] Step: 44000, loss: 0.29543, acc:0.90000\n",
      "[Train] Step: 44500, loss: 0.72712, acc:0.80000\n",
      "(10000, 3072)\n",
      "(10000,)\n",
      "[Test] Step: 45000,acc:0.62000\n",
      "[Train] Step: 45000, loss: 0.37028, acc:0.85000\n",
      "[Train] Step: 45500, loss: 0.36177, acc:0.85000\n",
      "[Train] Step: 46000, loss: 0.24743, acc:1.00000\n",
      "[Train] Step: 46500, loss: 0.45859, acc:0.85000\n",
      "[Train] Step: 47000, loss: 0.43097, acc:0.80000\n",
      "[Train] Step: 47500, loss: 0.28245, acc:0.90000\n",
      "[Train] Step: 48000, loss: 0.41087, acc:0.85000\n",
      "[Train] Step: 48500, loss: 0.41318, acc:0.85000\n",
      "[Train] Step: 49000, loss: 0.39122, acc:0.90000\n",
      "[Train] Step: 49500, loss: 0.56570, acc:0.70000\n",
      "(10000, 3072)\n",
      "(10000,)\n",
      "[Test] Step: 50000,acc:0.61850\n",
      "[Train] Step: 50000, loss: 0.72015, acc:0.70000\n",
      "[Train] Step: 50500, loss: 0.60511, acc:0.75000\n",
      "[Train] Step: 51000, loss: 0.43923, acc:0.85000\n",
      "[Train] Step: 51500, loss: 0.41349, acc:0.80000\n",
      "[Train] Step: 52000, loss: 0.59317, acc:0.75000\n",
      "[Train] Step: 52500, loss: 0.15334, acc:0.95000\n",
      "[Train] Step: 53000, loss: 0.61424, acc:0.80000\n",
      "[Train] Step: 53500, loss: 0.12402, acc:0.95000\n",
      "[Train] Step: 54000, loss: 0.44122, acc:0.80000\n",
      "[Train] Step: 54500, loss: 0.38627, acc:0.85000\n",
      "(10000, 3072)\n",
      "(10000,)\n",
      "[Test] Step: 55000,acc:0.60750\n",
      "[Train] Step: 55000, loss: 0.03999, acc:1.00000\n",
      "[Train] Step: 55500, loss: 0.88915, acc:0.75000\n",
      "[Train] Step: 56000, loss: 0.29649, acc:0.95000\n",
      "[Train] Step: 56500, loss: 0.39756, acc:0.85000\n",
      "[Train] Step: 57000, loss: 0.46387, acc:0.95000\n",
      "[Train] Step: 57500, loss: 0.42102, acc:0.85000\n",
      "[Train] Step: 58000, loss: 0.28619, acc:0.90000\n",
      "[Train] Step: 58500, loss: 0.35805, acc:0.90000\n",
      "[Train] Step: 59000, loss: 0.67326, acc:0.75000\n",
      "[Train] Step: 59500, loss: 0.36762, acc:0.85000\n",
      "(10000, 3072)\n",
      "(10000,)\n",
      "[Test] Step: 60000,acc:0.60550\n",
      "[Train] Step: 60000, loss: 0.54762, acc:0.75000\n",
      "[Train] Step: 60500, loss: 0.17348, acc:0.95000\n",
      "[Train] Step: 61000, loss: 0.73663, acc:0.75000\n",
      "[Train] Step: 61500, loss: 0.17750, acc:0.85000\n",
      "[Train] Step: 62000, loss: 0.40691, acc:0.90000\n",
      "[Train] Step: 62500, loss: 0.17325, acc:0.95000\n",
      "[Train] Step: 63000, loss: 0.49134, acc:0.80000\n",
      "[Train] Step: 63500, loss: 0.51732, acc:0.85000\n",
      "[Train] Step: 64000, loss: 0.21231, acc:0.95000\n",
      "[Train] Step: 64500, loss: 0.30751, acc:0.85000\n",
      "(10000, 3072)\n",
      "(10000,)\n",
      "[Test] Step: 65000,acc:0.59600\n",
      "[Train] Step: 65000, loss: 0.14092, acc:0.90000\n",
      "[Train] Step: 65500, loss: 0.35867, acc:0.85000\n",
      "[Train] Step: 66000, loss: 0.35643, acc:0.85000\n",
      "[Train] Step: 66500, loss: 0.38395, acc:0.85000\n",
      "[Train] Step: 67000, loss: 0.47768, acc:0.90000\n",
      "[Train] Step: 67500, loss: 0.55841, acc:0.75000\n",
      "[Train] Step: 68000, loss: 0.20597, acc:0.95000\n",
      "[Train] Step: 68500, loss: 0.35791, acc:0.90000\n",
      "[Train] Step: 69000, loss: 0.21008, acc:0.95000\n",
      "[Train] Step: 69500, loss: 0.68607, acc:0.85000\n",
      "(10000, 3072)\n",
      "(10000,)\n",
      "[Test] Step: 70000,acc:0.60850\n",
      "[Train] Step: 70000, loss: 0.25903, acc:0.95000\n",
      "[Train] Step: 70500, loss: 0.24080, acc:0.85000\n",
      "[Train] Step: 71000, loss: 0.53413, acc:0.75000\n",
      "[Train] Step: 71500, loss: 0.32145, acc:0.80000\n",
      "[Train] Step: 72000, loss: 0.51330, acc:0.75000\n",
      "[Train] Step: 72500, loss: 0.46865, acc:0.85000\n",
      "[Train] Step: 73000, loss: 0.20343, acc:0.95000\n",
      "[Train] Step: 73500, loss: 0.38967, acc:0.85000\n",
      "[Train] Step: 74000, loss: 0.17998, acc:0.95000\n",
      "[Train] Step: 74500, loss: 0.42745, acc:0.85000\n",
      "(10000, 3072)\n",
      "(10000,)\n",
      "[Test] Step: 75000,acc:0.58900\n",
      "[Train] Step: 75000, loss: 0.29754, acc:0.90000\n",
      "[Train] Step: 75500, loss: 0.39479, acc:0.90000\n",
      "[Train] Step: 76000, loss: 0.42763, acc:0.85000\n",
      "[Train] Step: 76500, loss: 0.53381, acc:0.85000\n",
      "[Train] Step: 77000, loss: 0.35124, acc:0.90000\n"
     ]
    },
    {
     "name": "stdout",
     "output_type": "stream",
     "text": [
      "[Train] Step: 77500, loss: 0.09474, acc:1.00000\n",
      "[Train] Step: 78000, loss: 0.19405, acc:0.95000\n",
      "[Train] Step: 78500, loss: 0.27297, acc:0.90000\n",
      "[Train] Step: 79000, loss: 0.51826, acc:0.90000\n",
      "[Train] Step: 79500, loss: 0.71022, acc:0.75000\n",
      "(10000, 3072)\n",
      "(10000,)\n",
      "[Test] Step: 80000,acc:0.60950\n",
      "[Train] Step: 80000, loss: 0.40689, acc:0.90000\n",
      "[Train] Step: 80500, loss: 0.21170, acc:0.95000\n",
      "[Train] Step: 81000, loss: 0.38770, acc:0.80000\n",
      "[Train] Step: 81500, loss: 0.38905, acc:0.80000\n",
      "[Train] Step: 82000, loss: 0.22311, acc:0.90000\n",
      "[Train] Step: 82500, loss: 0.16144, acc:0.95000\n",
      "[Train] Step: 83000, loss: 0.21969, acc:0.95000\n",
      "[Train] Step: 83500, loss: 0.24806, acc:0.90000\n",
      "[Train] Step: 84000, loss: 0.73342, acc:0.75000\n",
      "[Train] Step: 84500, loss: 0.33853, acc:0.90000\n",
      "(10000, 3072)\n",
      "(10000,)\n",
      "[Test] Step: 85000,acc:0.59250\n",
      "[Train] Step: 85000, loss: 0.39737, acc:0.80000\n",
      "[Train] Step: 85500, loss: 0.21944, acc:0.95000\n",
      "[Train] Step: 86000, loss: 0.15522, acc:0.95000\n",
      "[Train] Step: 86500, loss: 0.50853, acc:0.75000\n",
      "[Train] Step: 87000, loss: 0.28447, acc:0.85000\n",
      "[Train] Step: 87500, loss: 0.20638, acc:0.95000\n",
      "[Train] Step: 88000, loss: 0.09256, acc:1.00000\n",
      "[Train] Step: 88500, loss: 0.28066, acc:0.90000\n",
      "[Train] Step: 89000, loss: 0.22348, acc:0.90000\n",
      "[Train] Step: 89500, loss: 0.43711, acc:0.90000\n",
      "(10000, 3072)\n",
      "(10000,)\n",
      "[Test] Step: 90000,acc:0.59550\n",
      "[Train] Step: 90000, loss: 0.28608, acc:0.90000\n",
      "[Train] Step: 90500, loss: 0.61513, acc:0.85000\n",
      "[Train] Step: 91000, loss: 0.39363, acc:0.85000\n",
      "[Train] Step: 91500, loss: 0.64767, acc:0.85000\n",
      "[Train] Step: 92000, loss: 0.26847, acc:0.90000\n",
      "[Train] Step: 92500, loss: 0.34931, acc:0.90000\n",
      "[Train] Step: 93000, loss: 0.08129, acc:1.00000\n",
      "[Train] Step: 93500, loss: 0.23855, acc:0.90000\n",
      "[Train] Step: 94000, loss: 0.39774, acc:0.85000\n",
      "[Train] Step: 94500, loss: 0.29732, acc:0.90000\n",
      "(10000, 3072)\n",
      "(10000,)\n",
      "[Test] Step: 95000,acc:0.60100\n",
      "[Train] Step: 95000, loss: 0.29672, acc:0.90000\n",
      "[Train] Step: 95500, loss: 0.07770, acc:1.00000\n",
      "[Train] Step: 96000, loss: 0.66306, acc:0.75000\n",
      "[Train] Step: 96500, loss: 0.13820, acc:0.90000\n",
      "[Train] Step: 97000, loss: 0.33828, acc:0.90000\n",
      "[Train] Step: 97500, loss: 0.36837, acc:0.90000\n",
      "[Train] Step: 98000, loss: 0.32785, acc:0.90000\n",
      "[Train] Step: 98500, loss: 0.18640, acc:0.90000\n",
      "[Train] Step: 99000, loss: 0.38170, acc:0.80000\n",
      "[Train] Step: 99500, loss: 0.19974, acc:0.90000\n",
      "(10000, 3072)\n",
      "(10000,)\n",
      "[Test] Step: 100000,acc:0.59100\n"
     ]
    }
   ],
   "source": [
    "init = tf.global_variables_initializer()\n",
    "batch_size = 20\n",
    "train_steps = 100000\n",
    "test_steps = 100\n",
    "with tf.Session() as sess:\n",
    "    sess.run(init)\n",
    "    for i in range(train_steps):\n",
    "        batch_data,batch_labels = train_data.next_batch(batch_size)\n",
    "        loss_val,acc_val,_ = sess.run([loss,accuracy,train_op],feed_dict={x:batch_data ,y:batch_labels})\n",
    "        if i%500 == 0:\n",
    "            print('[Train] Step: %d, loss: %4.5f, acc:%4.5f' %(i,loss_val,acc_val))\n",
    "        if (i+1)%5000 == 0:\n",
    "            test_data = CifarData(test_filenames,False)\n",
    "            all_test_acc_val = []\n",
    "            for j in range(test_steps):\n",
    "                test_batch_data,test_batch_labels = test_data.next_batch(batch_size)\n",
    "                test_acc_val = sess.run([accuracy],feed_dict={x:test_batch_data,y:test_batch_labels})\n",
    "                all_test_acc_val.append(test_acc_val)\n",
    "            test_acc = np.mean(all_test_acc_val)\n",
    "            print('[Test] Step: %d,acc:%4.5f' %(i+1,test_acc))"
   ]
  },
  {
   "cell_type": "code",
   "execution_count": null,
   "metadata": {},
   "outputs": [],
   "source": []
  }
 ],
 "metadata": {
  "kernelspec": {
   "display_name": "Python 3",
   "language": "python",
   "name": "python3"
  },
  "language_info": {
   "codemirror_mode": {
    "name": "ipython",
    "version": 3
   },
   "file_extension": ".py",
   "mimetype": "text/x-python",
   "name": "python",
   "nbconvert_exporter": "python",
   "pygments_lexer": "ipython3",
   "version": "3.6.5"
  }
 },
 "nbformat": 4,
 "nbformat_minor": 2
}
